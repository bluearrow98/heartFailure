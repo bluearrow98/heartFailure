{
 "cells": [
  {
   "cell_type": "code",
   "execution_count": 1,
   "metadata": {
    "_cell_guid": "b1076dfc-b9ad-4769-8c92-a6c4dae69d19",
    "_uuid": "8f2839f25d086af736a60e9eeb907d3b93b6e0e5",
    "execution": {
     "iopub.execute_input": "2023-10-18T15:23:17.552486Z",
     "iopub.status.busy": "2023-10-18T15:23:17.551899Z",
     "iopub.status.idle": "2023-10-18T15:23:17.564018Z",
     "shell.execute_reply": "2023-10-18T15:23:17.564572Z",
     "shell.execute_reply.started": "2023-10-18T15:20:14.601493Z"
    },
    "papermill": {
     "duration": 0.028573,
     "end_time": "2023-10-18T15:23:17.564767",
     "exception": false,
     "start_time": "2023-10-18T15:23:17.536194",
     "status": "completed"
    },
    "tags": []
   },
   "outputs": [
    {
     "name": "stdout",
     "output_type": "stream",
     "text": [
      "/kaggle/input/heart-failure-clinical-data/heart_failure_clinical_records_dataset.csv\n"
     ]
    }
   ],
   "source": [
    "# This Python 3 environment comes with many helpful analytics libraries installed\n",
    "# It is defined by the kaggle/python Docker image: https://github.com/kaggle/docker-python\n",
    "# For example, here's several helpful packages to load\n",
    "\n",
    "import numpy as np # linear algebra\n",
    "import pandas as pd # data processing, CSV file I/O (e.g. pd.read_csv)\n",
    "\n",
    "# Input data files are available in the read-only \"../input/\" directory\n",
    "# For example, running this (by clicking run or pressing Shift+Enter) will list all files under the input directory\n",
    "\n",
    "import os\n",
    "for dirname, _, filenames in os.walk('/kaggle/input'):\n",
    "    for filename in filenames:\n",
    "        print(os.path.join(dirname, filename))\n",
    "\n",
    "# You can write up to 5GB to the current directory (/kaggle/working/) that gets preserved as output when you create a version using \"Save & Run All\" \n",
    "# You can also write temporary files to /kaggle/temp/, but they won't be saved outside of the current session"
   ]
  },
  {
   "cell_type": "code",
   "execution_count": 2,
   "metadata": {
    "_cell_guid": "79c7e3d0-c299-4dcb-8224-4455121ee9b0",
    "_uuid": "d629ff2d2480ee46fbb7e2d37f6b5fab8052498a",
    "execution": {
     "iopub.execute_input": "2023-10-18T15:23:17.601467Z",
     "iopub.status.busy": "2023-10-18T15:23:17.600948Z",
     "iopub.status.idle": "2023-10-18T15:23:17.629243Z",
     "shell.execute_reply": "2023-10-18T15:23:17.628762Z",
     "shell.execute_reply.started": "2023-10-18T15:20:14.615180Z"
    },
    "papermill": {
     "duration": 0.047936,
     "end_time": "2023-10-18T15:23:17.629365",
     "exception": false,
     "start_time": "2023-10-18T15:23:17.581429",
     "status": "completed"
    },
    "tags": []
   },
   "outputs": [
    {
     "data": {
      "text/html": [
       "<div>\n",
       "<style scoped>\n",
       "    .dataframe tbody tr th:only-of-type {\n",
       "        vertical-align: middle;\n",
       "    }\n",
       "\n",
       "    .dataframe tbody tr th {\n",
       "        vertical-align: top;\n",
       "    }\n",
       "\n",
       "    .dataframe thead th {\n",
       "        text-align: right;\n",
       "    }\n",
       "</style>\n",
       "<table border=\"1\" class=\"dataframe\">\n",
       "  <thead>\n",
       "    <tr style=\"text-align: right;\">\n",
       "      <th></th>\n",
       "      <th>age</th>\n",
       "      <th>anaemia</th>\n",
       "      <th>creatinine_phosphokinase</th>\n",
       "      <th>diabetes</th>\n",
       "      <th>ejection_fraction</th>\n",
       "      <th>high_blood_pressure</th>\n",
       "      <th>platelets</th>\n",
       "      <th>serum_creatinine</th>\n",
       "      <th>serum_sodium</th>\n",
       "      <th>sex</th>\n",
       "      <th>smoking</th>\n",
       "      <th>time</th>\n",
       "      <th>DEATH_EVENT</th>\n",
       "    </tr>\n",
       "  </thead>\n",
       "  <tbody>\n",
       "    <tr>\n",
       "      <th>0</th>\n",
       "      <td>75.0</td>\n",
       "      <td>0</td>\n",
       "      <td>582</td>\n",
       "      <td>0</td>\n",
       "      <td>20</td>\n",
       "      <td>1</td>\n",
       "      <td>265000.00</td>\n",
       "      <td>1.9</td>\n",
       "      <td>130</td>\n",
       "      <td>1</td>\n",
       "      <td>0</td>\n",
       "      <td>4</td>\n",
       "      <td>1</td>\n",
       "    </tr>\n",
       "    <tr>\n",
       "      <th>1</th>\n",
       "      <td>55.0</td>\n",
       "      <td>0</td>\n",
       "      <td>7861</td>\n",
       "      <td>0</td>\n",
       "      <td>38</td>\n",
       "      <td>0</td>\n",
       "      <td>263358.03</td>\n",
       "      <td>1.1</td>\n",
       "      <td>136</td>\n",
       "      <td>1</td>\n",
       "      <td>0</td>\n",
       "      <td>6</td>\n",
       "      <td>1</td>\n",
       "    </tr>\n",
       "    <tr>\n",
       "      <th>2</th>\n",
       "      <td>65.0</td>\n",
       "      <td>0</td>\n",
       "      <td>146</td>\n",
       "      <td>0</td>\n",
       "      <td>20</td>\n",
       "      <td>0</td>\n",
       "      <td>162000.00</td>\n",
       "      <td>1.3</td>\n",
       "      <td>129</td>\n",
       "      <td>1</td>\n",
       "      <td>1</td>\n",
       "      <td>7</td>\n",
       "      <td>1</td>\n",
       "    </tr>\n",
       "    <tr>\n",
       "      <th>3</th>\n",
       "      <td>50.0</td>\n",
       "      <td>1</td>\n",
       "      <td>111</td>\n",
       "      <td>0</td>\n",
       "      <td>20</td>\n",
       "      <td>0</td>\n",
       "      <td>210000.00</td>\n",
       "      <td>1.9</td>\n",
       "      <td>137</td>\n",
       "      <td>1</td>\n",
       "      <td>0</td>\n",
       "      <td>7</td>\n",
       "      <td>1</td>\n",
       "    </tr>\n",
       "    <tr>\n",
       "      <th>4</th>\n",
       "      <td>65.0</td>\n",
       "      <td>1</td>\n",
       "      <td>160</td>\n",
       "      <td>1</td>\n",
       "      <td>20</td>\n",
       "      <td>0</td>\n",
       "      <td>327000.00</td>\n",
       "      <td>2.7</td>\n",
       "      <td>116</td>\n",
       "      <td>0</td>\n",
       "      <td>0</td>\n",
       "      <td>8</td>\n",
       "      <td>1</td>\n",
       "    </tr>\n",
       "  </tbody>\n",
       "</table>\n",
       "</div>"
      ],
      "text/plain": [
       "    age  anaemia  creatinine_phosphokinase  diabetes  ejection_fraction  \\\n",
       "0  75.0        0                       582         0                 20   \n",
       "1  55.0        0                      7861         0                 38   \n",
       "2  65.0        0                       146         0                 20   \n",
       "3  50.0        1                       111         0                 20   \n",
       "4  65.0        1                       160         1                 20   \n",
       "\n",
       "   high_blood_pressure  platelets  serum_creatinine  serum_sodium  sex  \\\n",
       "0                    1  265000.00               1.9           130    1   \n",
       "1                    0  263358.03               1.1           136    1   \n",
       "2                    0  162000.00               1.3           129    1   \n",
       "3                    0  210000.00               1.9           137    1   \n",
       "4                    0  327000.00               2.7           116    0   \n",
       "\n",
       "   smoking  time  DEATH_EVENT  \n",
       "0        0     4            1  \n",
       "1        0     6            1  \n",
       "2        1     7            1  \n",
       "3        0     7            1  \n",
       "4        0     8            1  "
      ]
     },
     "execution_count": 2,
     "metadata": {},
     "output_type": "execute_result"
    }
   ],
   "source": [
    "heart_failure = pd.read_csv(\"../input/heart-failure-clinical-data/heart_failure_clinical_records_dataset.csv\")\n",
    "heart_failure.head()"
   ]
  },
  {
   "cell_type": "code",
   "execution_count": 3,
   "metadata": {
    "execution": {
     "iopub.execute_input": "2023-10-18T15:23:17.672263Z",
     "iopub.status.busy": "2023-10-18T15:23:17.671670Z",
     "iopub.status.idle": "2023-10-18T15:23:19.623456Z",
     "shell.execute_reply": "2023-10-18T15:23:19.622721Z",
     "shell.execute_reply.started": "2023-10-18T15:20:14.653353Z"
    },
    "papermill": {
     "duration": 1.974118,
     "end_time": "2023-10-18T15:23:19.623629",
     "exception": false,
     "start_time": "2023-10-18T15:23:17.649511",
     "status": "completed"
    },
    "tags": []
   },
   "outputs": [
    {
     "data": {
      "image/png": "[encoded data removed]",
      "text/plain": [
       "<Figure size 1800x1080 with 16 Axes>"
      ]
     },
     "metadata": {
      "needs_background": "light"
     },
     "output_type": "display_data"
    }
   ],
   "source": [
    "import matplotlib.pyplot as plt\n",
    "\n",
    "heart_failure.hist(bins=40,figsize=(25,15))\n",
    "plt.show()"
   ]
  },
  {
   "cell_type": "code",
   "execution_count": 4,
   "metadata": {
    "execution": {
     "iopub.execute_input": "2023-10-18T15:23:19.657487Z",
     "iopub.status.busy": "2023-10-18T15:23:19.656868Z",
     "iopub.status.idle": "2023-10-18T15:23:20.839866Z",
     "shell.execute_reply": "2023-10-18T15:23:20.839442Z",
     "shell.execute_reply.started": "2023-10-18T15:20:17.187016Z"
    },
    "papermill": {
     "duration": 1.201823,
     "end_time": "2023-10-18T15:23:20.839969",
     "exception": false,
     "start_time": "2023-10-18T15:23:19.638146",
     "status": "completed"
    },
    "tags": []
   },
   "outputs": [],
   "source": [
    "from sklearn.model_selection import train_test_split\n",
    "\n",
    "train_set,test_set = train_test_split(heart_failure,test_size=0.2,random_state=42)\n",
    "heart = train_set.copy()"
   ]
  },
  {
   "cell_type": "code",
   "execution_count": 5,
   "metadata": {
    "execution": {
     "iopub.execute_input": "2023-10-18T15:23:20.871612Z",
     "iopub.status.busy": "2023-10-18T15:23:20.871146Z",
     "iopub.status.idle": "2023-10-18T15:23:20.878286Z",
     "shell.execute_reply": "2023-10-18T15:23:20.878699Z",
     "shell.execute_reply.started": "2023-10-18T15:20:18.064824Z"
    },
    "papermill": {
     "duration": 0.024257,
     "end_time": "2023-10-18T15:23:20.878821",
     "exception": false,
     "start_time": "2023-10-18T15:23:20.854564",
     "status": "completed"
    },
    "tags": []
   },
   "outputs": [],
   "source": [
    "heart_data = heart.drop('DEATH_EVENT',axis=1)\n",
    "heart_data_labels = heart['DEATH_EVENT'].copy()"
   ]
  },
  {
   "cell_type": "code",
   "execution_count": 6,
   "metadata": {
    "execution": {
     "iopub.execute_input": "2023-10-18T15:23:20.910084Z",
     "iopub.status.busy": "2023-10-18T15:23:20.909690Z",
     "iopub.status.idle": "2023-10-18T15:23:20.914731Z",
     "shell.execute_reply": "2023-10-18T15:23:20.915138Z",
     "shell.execute_reply.started": "2023-10-18T15:20:18.073130Z"
    },
    "papermill": {
     "duration": 0.022278,
     "end_time": "2023-10-18T15:23:20.915275",
     "exception": false,
     "start_time": "2023-10-18T15:23:20.892997",
     "status": "completed"
    },
    "tags": []
   },
   "outputs": [],
   "source": [
    "shuffle_index = np.random.permutation(len(heart_data))\n",
    "heart_data,heart_data_labels = heart_data.iloc[shuffle_index],heart_data_labels.iloc[shuffle_index]"
   ]
  },
  {
   "cell_type": "code",
   "execution_count": 7,
   "metadata": {
    "execution": {
     "iopub.execute_input": "2023-10-18T15:23:20.950986Z",
     "iopub.status.busy": "2023-10-18T15:23:20.950299Z",
     "iopub.status.idle": "2023-10-18T15:23:20.954969Z",
     "shell.execute_reply": "2023-10-18T15:23:20.955303Z",
     "shell.execute_reply.started": "2023-10-18T15:20:18.085726Z"
    },
    "papermill": {
     "duration": 0.025033,
     "end_time": "2023-10-18T15:23:20.955414",
     "exception": false,
     "start_time": "2023-10-18T15:23:20.930381",
     "status": "completed"
    },
    "tags": []
   },
   "outputs": [],
   "source": [
    "from sklearn.preprocessing import StandardScaler\n",
    "#Scaling the data - Feature scaling\n",
    "std_scaler = StandardScaler()\n",
    "heart_data_scaled = std_scaler.fit_transform(heart_data)"
   ]
  },
  {
   "cell_type": "markdown",
   "metadata": {
    "papermill": {
     "duration": 0.014026,
     "end_time": "2023-10-18T15:23:20.983835",
     "exception": false,
     "start_time": "2023-10-18T15:23:20.969809",
     "status": "completed"
    },
    "tags": []
   },
   "source": [
    "# SGDClassifier"
   ]
  },
  {
   "cell_type": "code",
   "execution_count": 8,
   "metadata": {
    "execution": {
     "iopub.execute_input": "2023-10-18T15:23:21.016807Z",
     "iopub.status.busy": "2023-10-18T15:23:21.016301Z",
     "iopub.status.idle": "2023-10-18T15:23:21.118981Z",
     "shell.execute_reply": "2023-10-18T15:23:21.118435Z",
     "shell.execute_reply.started": "2023-10-18T15:20:18.102399Z"
    },
    "papermill": {
     "duration": 0.12044,
     "end_time": "2023-10-18T15:23:21.119078",
     "exception": false,
     "start_time": "2023-10-18T15:23:20.998638",
     "status": "completed"
    },
    "tags": []
   },
   "outputs": [
    {
     "data": {
      "text/plain": [
       "SGDClassifier()"
      ]
     },
     "execution_count": 8,
     "metadata": {},
     "output_type": "execute_result"
    }
   ],
   "source": [
    "from sklearn.linear_model import SGDClassifier,LogisticRegression\n",
    "\n",
    "sgd_clf = SGDClassifier()\n",
    "sgd_clf.fit(heart_data_scaled,heart_data_labels)"
   ]
  },
  {
   "cell_type": "code",
   "execution_count": 9,
   "metadata": {
    "execution": {
     "iopub.execute_input": "2023-10-18T15:23:21.155233Z",
     "iopub.status.busy": "2023-10-18T15:23:21.154771Z",
     "iopub.status.idle": "2023-10-18T15:23:21.170423Z",
     "shell.execute_reply": "2023-10-18T15:23:21.169912Z",
     "shell.execute_reply.started": "2023-10-18T15:20:18.182552Z"
    },
    "papermill": {
     "duration": 0.03617,
     "end_time": "2023-10-18T15:23:21.170556",
     "exception": false,
     "start_time": "2023-10-18T15:23:21.134386",
     "status": "completed"
    },
    "tags": []
   },
   "outputs": [
    {
     "name": "stdout",
     "output_type": "stream",
     "text": [
      "[[138  30]\n",
      " [ 22  49]]\n",
      "0.620253164556962\n",
      "0.6901408450704225\n"
     ]
    }
   ],
   "source": [
    "from sklearn.model_selection import cross_val_predict\n",
    "from sklearn.metrics import confusion_matrix,precision_score,recall_score,roc_curve,roc_auc_score\n",
    "\n",
    "heart_pred = cross_val_predict(sgd_clf,heart_data_scaled,heart_data_labels,cv=3)\n",
    "print(confusion_matrix(heart_data_labels,heart_pred))\n",
    "print(precision_score(heart_data_labels,heart_pred))\n",
    "print(recall_score(heart_data_labels,heart_pred))"
   ]
  },
  {
   "cell_type": "code",
   "execution_count": 10,
   "metadata": {
    "execution": {
     "iopub.execute_input": "2023-10-18T15:23:21.202393Z",
     "iopub.status.busy": "2023-10-18T15:23:21.201971Z",
     "iopub.status.idle": "2023-10-18T15:23:21.304913Z",
     "shell.execute_reply": "2023-10-18T15:23:21.304244Z",
     "shell.execute_reply.started": "2023-10-18T15:20:18.207353Z"
    },
    "papermill": {
     "duration": 0.119681,
     "end_time": "2023-10-18T15:23:21.305052",
     "exception": false,
     "start_time": "2023-10-18T15:23:21.185371",
     "status": "completed"
    },
    "tags": []
   },
   "outputs": [
    {
     "data": {
      "image/png": "[encoded data removed]",
      "text/plain": [
       "<Figure size 432x288 with 1 Axes>"
      ]
     },
     "metadata": {
      "needs_background": "light"
     },
     "output_type": "display_data"
    }
   ],
   "source": [
    "fpr,tpr,threshold = roc_curve(heart_data_labels,heart_pred)\n",
    "\n",
    "def plot_ROC_curve(fpr,tpr,label=None):\n",
    "    plt.plot(fpr,tpr,linewidth=2,label=label)\n",
    "    plt.plot([0,1],[0,1],'k--')\n",
    "    plt.axis([0,1,0,1])\n",
    "    plt.xlabel('False Positive Rate')\n",
    "    plt.ylabel('Recall')\n",
    "\n",
    "plot_ROC_curve(fpr,tpr)\n",
    "plt.show()"
   ]
  },
  {
   "cell_type": "code",
   "execution_count": 11,
   "metadata": {
    "execution": {
     "iopub.execute_input": "2023-10-18T15:23:21.343759Z",
     "iopub.status.busy": "2023-10-18T15:23:21.343234Z",
     "iopub.status.idle": "2023-10-18T15:23:21.346905Z",
     "shell.execute_reply": "2023-10-18T15:23:21.346385Z",
     "shell.execute_reply.started": "2023-10-18T15:20:18.340074Z"
    },
    "papermill": {
     "duration": 0.025956,
     "end_time": "2023-10-18T15:23:21.347009",
     "exception": false,
     "start_time": "2023-10-18T15:23:21.321053",
     "status": "completed"
    },
    "tags": []
   },
   "outputs": [
    {
     "data": {
      "text/plain": [
       "0.755784708249497"
      ]
     },
     "execution_count": 11,
     "metadata": {},
     "output_type": "execute_result"
    }
   ],
   "source": [
    "roc_auc_score(heart_data_labels,heart_pred)"
   ]
  },
  {
   "cell_type": "markdown",
   "metadata": {
    "papermill": {
     "duration": 0.015094,
     "end_time": "2023-10-18T15:23:21.377621",
     "exception": false,
     "start_time": "2023-10-18T15:23:21.362527",
     "status": "completed"
    },
    "tags": []
   },
   "source": [
    "# LogisticRegressor"
   ]
  },
  {
   "cell_type": "code",
   "execution_count": 12,
   "metadata": {
    "execution": {
     "iopub.execute_input": "2023-10-18T15:23:21.430369Z",
     "iopub.status.busy": "2023-10-18T15:23:21.421701Z",
     "iopub.status.idle": "2023-10-18T15:23:21.444328Z",
     "shell.execute_reply": "2023-10-18T15:23:21.444820Z",
     "shell.execute_reply.started": "2023-10-18T15:20:18.349477Z"
    },
    "papermill": {
     "duration": 0.051836,
     "end_time": "2023-10-18T15:23:21.444957",
     "exception": false,
     "start_time": "2023-10-18T15:23:21.393121",
     "status": "completed"
    },
    "tags": []
   },
   "outputs": [
    {
     "data": {
      "text/plain": [
       "LogisticRegression()"
      ]
     },
     "execution_count": 12,
     "metadata": {},
     "output_type": "execute_result"
    }
   ],
   "source": [
    "log_reg = LogisticRegression()\n",
    "log_reg.fit(heart_data,heart_data_labels)"
   ]
  },
  {
   "cell_type": "code",
   "execution_count": 13,
   "metadata": {
    "execution": {
     "iopub.execute_input": "2023-10-18T15:23:21.480765Z",
     "iopub.status.busy": "2023-10-18T15:23:21.480224Z",
     "iopub.status.idle": "2023-10-18T15:23:21.500070Z",
     "shell.execute_reply": "2023-10-18T15:23:21.500575Z",
     "shell.execute_reply.started": "2023-10-18T15:20:18.395260Z"
    },
    "papermill": {
     "duration": 0.038877,
     "end_time": "2023-10-18T15:23:21.500771",
     "exception": false,
     "start_time": "2023-10-18T15:23:21.461894",
     "status": "completed"
    },
    "tags": []
   },
   "outputs": [
    {
     "name": "stdout",
     "output_type": "stream",
     "text": [
      "[[138  30]\n",
      " [ 22  49]]\n",
      "0.620253164556962\n",
      "0.6901408450704225\n"
     ]
    }
   ],
   "source": [
    "heart_pred_log = cross_val_predict(log_reg,heart_data_scaled,heart_data_labels,cv=3)\n",
    "print(confusion_matrix(heart_data_labels,heart_pred))\n",
    "print(precision_score(heart_data_labels,heart_pred))\n",
    "print(recall_score(heart_data_labels,heart_pred))"
   ]
  },
  {
   "cell_type": "code",
   "execution_count": 14,
   "metadata": {
    "execution": {
     "iopub.execute_input": "2023-10-18T15:23:21.535652Z",
     "iopub.status.busy": "2023-10-18T15:23:21.535057Z",
     "iopub.status.idle": "2023-10-18T15:23:21.540902Z",
     "shell.execute_reply": "2023-10-18T15:23:21.541267Z",
     "shell.execute_reply.started": "2023-10-18T15:20:18.423244Z"
    },
    "papermill": {
     "duration": 0.024763,
     "end_time": "2023-10-18T15:23:21.541387",
     "exception": false,
     "start_time": "2023-10-18T15:23:21.516624",
     "status": "completed"
    },
    "tags": []
   },
   "outputs": [
    {
     "data": {
      "text/plain": [
       "0.7744382964453386"
      ]
     },
     "execution_count": 14,
     "metadata": {},
     "output_type": "execute_result"
    }
   ],
   "source": [
    "roc_auc_score(heart_data_labels,heart_pred_log)"
   ]
  },
  {
   "cell_type": "markdown",
   "metadata": {
    "papermill": {
     "duration": 0.015442,
     "end_time": "2023-10-18T15:23:21.572633",
     "exception": false,
     "start_time": "2023-10-18T15:23:21.557191",
     "status": "completed"
    },
    "tags": []
   },
   "source": [
    "# RandomForest"
   ]
  },
  {
   "cell_type": "code",
   "execution_count": 15,
   "metadata": {
    "execution": {
     "iopub.execute_input": "2023-10-18T15:23:21.608061Z",
     "iopub.status.busy": "2023-10-18T15:23:21.607454Z",
     "iopub.status.idle": "2023-10-18T15:23:21.864297Z",
     "shell.execute_reply": "2023-10-18T15:23:21.863859Z",
     "shell.execute_reply.started": "2023-10-18T15:20:18.433897Z"
    },
    "papermill": {
     "duration": 0.275606,
     "end_time": "2023-10-18T15:23:21.864401",
     "exception": false,
     "start_time": "2023-10-18T15:23:21.588795",
     "status": "completed"
    },
    "tags": []
   },
   "outputs": [
    {
     "data": {
      "text/plain": [
       "RandomForestClassifier()"
      ]
     },
     "execution_count": 15,
     "metadata": {},
     "output_type": "execute_result"
    }
   ],
   "source": [
    "from sklearn.ensemble import RandomForestClassifier\n",
    "\n",
    "forest_clas = RandomForestClassifier()\n",
    "forest_clas.fit(heart_data_scaled,heart_data_labels)"
   ]
  },
  {
   "cell_type": "code",
   "execution_count": 16,
   "metadata": {
    "execution": {
     "iopub.execute_input": "2023-10-18T15:23:21.914318Z",
     "iopub.status.busy": "2023-10-18T15:23:21.909189Z",
     "iopub.status.idle": "2023-10-18T15:23:22.237983Z",
     "shell.execute_reply": "2023-10-18T15:23:22.237606Z",
     "shell.execute_reply.started": "2023-10-18T15:20:18.692726Z"
    },
    "papermill": {
     "duration": 0.357148,
     "end_time": "2023-10-18T15:23:22.238079",
     "exception": false,
     "start_time": "2023-10-18T15:23:21.880931",
     "status": "completed"
    },
    "tags": []
   },
   "outputs": [
    {
     "name": "stdout",
     "output_type": "stream",
     "text": [
      "[[156  12]\n",
      " [ 15  56]]\n",
      "0.8235294117647058\n",
      "0.7887323943661971\n"
     ]
    }
   ],
   "source": [
    "heart_pred_forest = cross_val_predict(forest_clas,heart_data_scaled,heart_data_labels,cv=3)\n",
    "print(confusion_matrix(heart_data_labels,heart_pred_forest))\n",
    "print(precision_score(heart_data_labels,heart_pred_forest))\n",
    "print(recall_score(heart_data_labels,heart_pred_forest))"
   ]
  },
  {
   "cell_type": "code",
   "execution_count": 17,
   "metadata": {
    "execution": {
     "iopub.execute_input": "2023-10-18T15:23:22.277830Z",
     "iopub.status.busy": "2023-10-18T15:23:22.277098Z",
     "iopub.status.idle": "2023-10-18T15:23:22.371811Z",
     "shell.execute_reply": "2023-10-18T15:23:22.371301Z",
     "shell.execute_reply.started": "2023-10-18T15:20:19.159413Z"
    },
    "papermill": {
     "duration": 0.117313,
     "end_time": "2023-10-18T15:23:22.371914",
     "exception": false,
     "start_time": "2023-10-18T15:23:22.254601",
     "status": "completed"
    },
    "tags": []
   },
   "outputs": [
    {
     "data": {
      "image/png": "[encoded data removed]",
      "text/plain": [
       "<Figure size 432x288 with 1 Axes>"
      ]
     },
     "metadata": {
      "needs_background": "light"
     },
     "output_type": "display_data"
    }
   ],
   "source": [
    "fpr1,tpr1,threshold1 = roc_curve(heart_data_labels,heart_pred_forest)\n",
    "\n",
    "plot_ROC_curve(fpr1,tpr1)\n",
    "plt.show()"
   ]
  },
  {
   "cell_type": "code",
   "execution_count": 18,
   "metadata": {
    "execution": {
     "iopub.execute_input": "2023-10-18T15:23:22.411855Z",
     "iopub.status.busy": "2023-10-18T15:23:22.411272Z",
     "iopub.status.idle": "2023-10-18T15:23:22.415985Z",
     "shell.execute_reply": "2023-10-18T15:23:22.416354Z",
     "shell.execute_reply.started": "2023-10-18T15:20:19.291555Z"
    },
    "papermill": {
     "duration": 0.025735,
     "end_time": "2023-10-18T15:23:22.416489",
     "exception": false,
     "start_time": "2023-10-18T15:23:22.390754",
     "status": "completed"
    },
    "tags": []
   },
   "outputs": [
    {
     "data": {
      "text/plain": [
       "0.8586519114688128"
      ]
     },
     "execution_count": 18,
     "metadata": {},
     "output_type": "execute_result"
    }
   ],
   "source": [
    "roc_auc_score(heart_data_labels,heart_pred_forest)"
   ]
  },
  {
   "cell_type": "markdown",
   "metadata": {
    "papermill": {
     "duration": 0.016765,
     "end_time": "2023-10-18T15:23:22.451831",
     "exception": false,
     "start_time": "2023-10-18T15:23:22.435066",
     "status": "completed"
    },
    "tags": []
   },
   "source": [
    "# KNeighbors"
   ]
  },
  {
   "cell_type": "code",
   "execution_count": 19,
   "metadata": {
    "execution": {
     "iopub.execute_input": "2023-10-18T15:23:22.490488Z",
     "iopub.status.busy": "2023-10-18T15:23:22.489967Z",
     "iopub.status.idle": "2023-10-18T15:23:22.499362Z",
     "shell.execute_reply": "2023-10-18T15:23:22.498917Z",
     "shell.execute_reply.started": "2023-10-18T15:20:19.300063Z"
    },
    "papermill": {
     "duration": 0.029169,
     "end_time": "2023-10-18T15:23:22.499451",
     "exception": false,
     "start_time": "2023-10-18T15:23:22.470282",
     "status": "completed"
    },
    "tags": []
   },
   "outputs": [
    {
     "data": {
      "text/plain": [
       "KNeighborsClassifier()"
      ]
     },
     "execution_count": 19,
     "metadata": {},
     "output_type": "execute_result"
    }
   ],
   "source": [
    "from sklearn.neighbors import KNeighborsClassifier\n",
    "\n",
    "knn_clf = KNeighborsClassifier()\n",
    "knn_clf.fit(heart_data,heart_data_labels)"
   ]
  },
  {
   "cell_type": "code",
   "execution_count": 20,
   "metadata": {
    "execution": {
     "iopub.execute_input": "2023-10-18T15:23:22.538041Z",
     "iopub.status.busy": "2023-10-18T15:23:22.537478Z",
     "iopub.status.idle": "2023-10-18T15:23:22.556403Z",
     "shell.execute_reply": "2023-10-18T15:23:22.556813Z",
     "shell.execute_reply.started": "2023-10-18T15:21:43.139810Z"
    },
    "papermill": {
     "duration": 0.039768,
     "end_time": "2023-10-18T15:23:22.556984",
     "exception": false,
     "start_time": "2023-10-18T15:23:22.517216",
     "status": "completed"
    },
    "tags": []
   },
   "outputs": [
    {
     "name": "stdout",
     "output_type": "stream",
     "text": [
      "[[158  10]\n",
      " [ 47  24]]\n",
      "0.7058823529411765\n",
      "0.3380281690140845\n"
     ]
    }
   ],
   "source": [
    "heart_pred_knn = cross_val_predict(knn_clf,heart_data_scaled,heart_data_labels,cv=3)\n",
    "print(confusion_matrix(heart_data_labels,heart_pred_knn))\n",
    "print(precision_score(heart_data_labels,heart_pred_knn))\n",
    "print(recall_score(heart_data_labels,heart_pred_knn))"
   ]
  },
  {
   "cell_type": "code",
   "execution_count": 21,
   "metadata": {
    "execution": {
     "iopub.execute_input": "2023-10-18T15:23:22.597316Z",
     "iopub.status.busy": "2023-10-18T15:23:22.596849Z",
     "iopub.status.idle": "2023-10-18T15:23:22.602920Z",
     "shell.execute_reply": "2023-10-18T15:23:22.603276Z",
     "shell.execute_reply.started": "2023-10-18T15:20:39.530909Z"
    },
    "papermill": {
     "duration": 0.027551,
     "end_time": "2023-10-18T15:23:22.603390",
     "exception": false,
     "start_time": "2023-10-18T15:23:22.575839",
     "status": "completed"
    },
    "tags": []
   },
   "outputs": [
    {
     "data": {
      "text/plain": [
       "0.6392521797451375"
      ]
     },
     "execution_count": 21,
     "metadata": {},
     "output_type": "execute_result"
    }
   ],
   "source": [
    "roc_auc_score(heart_data_labels,heart_pred_knn)"
   ]
  },
  {
   "cell_type": "markdown",
   "metadata": {
    "papermill": {
     "duration": 0.020424,
     "end_time": "2023-10-18T15:23:22.641969",
     "exception": false,
     "start_time": "2023-10-18T15:23:22.621545",
     "status": "completed"
    },
    "tags": []
   },
   "source": [
    "RandomForestClassifier is much better than Logistic regression. However it is overfitting the training set. We try attempting fine tuning the model."
   ]
  },
  {
   "cell_type": "code",
   "execution_count": 22,
   "metadata": {
    "_kg_hide-input": false,
    "execution": {
     "iopub.execute_input": "2023-10-18T15:23:22.680874Z",
     "iopub.status.busy": "2023-10-18T15:23:22.680288Z",
     "iopub.status.idle": "2023-10-18T15:25:32.559031Z",
     "shell.execute_reply": "2023-10-18T15:25:32.559346Z"
    },
    "papermill": {
     "duration": 129.899569,
     "end_time": "2023-10-18T15:25:32.559453",
     "exception": false,
     "start_time": "2023-10-18T15:23:22.659884",
     "status": "completed"
    },
    "tags": []
   },
   "outputs": [
    {
     "name": "stdout",
     "output_type": "stream",
     "text": [
      "0.8334590878604963\n"
     ]
    }
   ],
   "source": [
    "from sklearn.model_selection import GridSearchCV\n",
    "from sklearn.metrics import make_scorer\n",
    "\n",
    "parameters = [{'n_estimators':[10,100,500,1000],'max_depth':[3,5,8,10,15],'max_features':['log2','auto','sqrt']}]\n",
    "auc_scorer = make_scorer(roc_auc_score)\n",
    "grid_search = GridSearchCV(forest_clas,parameters,scoring=auc_scorer)\n",
    "grid_search = grid_search.fit(heart_data_scaled,heart_data_labels)\n",
    "forest_clas = grid_search.best_estimator_\n",
    "heart_predictions = cross_val_predict(forest_clas,heart_data,heart_data_labels,cv=3)\n",
    "forest_score = roc_auc_score(heart_data_labels,heart_predictions)\n",
    "print(forest_score)"
   ]
  },
  {
   "cell_type": "code",
   "execution_count": 23,
   "metadata": {
    "execution": {
     "iopub.execute_input": "2023-10-18T15:25:32.600849Z",
     "iopub.status.busy": "2023-10-18T15:25:32.600322Z",
     "iopub.status.idle": "2023-10-18T15:25:32.610394Z",
     "shell.execute_reply": "2023-10-18T15:25:32.609874Z"
    },
    "papermill": {
     "duration": 0.033261,
     "end_time": "2023-10-18T15:25:32.610557",
     "exception": false,
     "start_time": "2023-10-18T15:25:32.577296",
     "status": "completed"
    },
    "tags": []
   },
   "outputs": [
    {
     "name": "stdout",
     "output_type": "stream",
     "text": [
      "0.7876317799847211 {'max_depth': 3, 'max_features': 'log2', 'n_estimators': 10}\n",
      "0.8281538069773363 {'max_depth': 3, 'max_features': 'log2', 'n_estimators': 100}\n",
      "0.8260300483829897 {'max_depth': 3, 'max_features': 'log2', 'n_estimators': 500}\n",
      "0.8362032085561498 {'max_depth': 3, 'max_features': 'log2', 'n_estimators': 1000}\n",
      "0.8051667939903234 {'max_depth': 3, 'max_features': 'auto', 'n_estimators': 10}\n",
      "0.8197504456327985 {'max_depth': 3, 'max_features': 'auto', 'n_estimators': 100}\n",
      "0.8362032085561498 {'max_depth': 3, 'max_features': 'auto', 'n_estimators': 500}\n",
      "0.829536541889483 {'max_depth': 3, 'max_features': 'auto', 'n_estimators': 1000}\n",
      "0.7904048892284186 {'max_depth': 3, 'max_features': 'sqrt', 'n_estimators': 10}\n",
      "0.8290603514132927 {'max_depth': 3, 'max_features': 'sqrt', 'n_estimators': 100}\n",
      "0.829536541889483 {'max_depth': 3, 'max_features': 'sqrt', 'n_estimators': 500}\n",
      "0.8230888719124014 {'max_depth': 3, 'max_features': 'sqrt', 'n_estimators': 1000}\n",
      "0.7998905016552076 {'max_depth': 5, 'max_features': 'log2', 'n_estimators': 10}\n",
      "0.8460758848994143 {'max_depth': 5, 'max_features': 'log2', 'n_estimators': 100}\n",
      "0.842052457346575 {'max_depth': 5, 'max_features': 'log2', 'n_estimators': 500}\n",
      "0.8624395212630507 {'max_depth': 5, 'max_features': 'log2', 'n_estimators': 1000}\n",
      "0.8141762159409218 {'max_depth': 5, 'max_features': 'auto', 'n_estimators': 10}\n",
      "0.872612681436211 {'max_depth': 5, 'max_features': 'auto', 'n_estimators': 100}\n",
      "0.8557728545963841 {'max_depth': 5, 'max_features': 'auto', 'n_estimators': 500}\n",
      "0.8557728545963841 {'max_depth': 5, 'max_features': 'auto', 'n_estimators': 1000}\n",
      "0.8218843901196843 {'max_depth': 5, 'max_features': 'sqrt', 'n_estimators': 10}\n",
      "0.8461650114591291 {'max_depth': 5, 'max_features': 'sqrt', 'n_estimators': 100}\n",
      "0.8456888209829387 {'max_depth': 5, 'max_features': 'sqrt', 'n_estimators': 500}\n",
      "0.8528316781257959 {'max_depth': 5, 'max_features': 'sqrt', 'n_estimators': 1000}\n",
      "0.7764731347084288 {'max_depth': 8, 'max_features': 'log2', 'n_estimators': 10}\n",
      "0.8494143111790171 {'max_depth': 8, 'max_features': 'log2', 'n_estimators': 100}\n",
      "0.8528316781257959 {'max_depth': 8, 'max_features': 'log2', 'n_estimators': 500}\n",
      "0.8557728545963841 {'max_depth': 8, 'max_features': 'log2', 'n_estimators': 1000}\n",
      "0.8277667430608606 {'max_depth': 8, 'max_features': 'auto', 'n_estimators': 10}\n",
      "0.8629157117392412 {'max_depth': 8, 'max_features': 'auto', 'n_estimators': 100}\n",
      "0.8629157117392412 {'max_depth': 8, 'max_features': 'auto', 'n_estimators': 500}\n",
      "0.8528316781257959 {'max_depth': 8, 'max_features': 'auto', 'n_estimators': 1000}\n",
      "0.8257881334351922 {'max_depth': 8, 'max_features': 'sqrt', 'n_estimators': 10}\n",
      "0.8528316781257959 {'max_depth': 8, 'max_features': 'sqrt', 'n_estimators': 100}\n",
      "0.8528316781257959 {'max_depth': 8, 'max_features': 'sqrt', 'n_estimators': 500}\n",
      "0.8557728545963841 {'max_depth': 8, 'max_features': 'sqrt', 'n_estimators': 1000}\n",
      "0.8189763177998474 {'max_depth': 10, 'max_features': 'log2', 'n_estimators': 10}\n",
      "0.859974535268653 {'max_depth': 10, 'max_features': 'log2', 'n_estimators': 100}\n",
      "0.859974535268653 {'max_depth': 10, 'max_features': 'log2', 'n_estimators': 500}\n",
      "0.8498905016552076 {'max_depth': 10, 'max_features': 'log2', 'n_estimators': 1000}\n",
      "0.8037840590781767 {'max_depth': 10, 'max_features': 'auto', 'n_estimators': 10}\n",
      "0.8456888209829387 {'max_depth': 10, 'max_features': 'auto', 'n_estimators': 100}\n",
      "0.8557728545963841 {'max_depth': 10, 'max_features': 'auto', 'n_estimators': 500}\n",
      "0.8557728545963841 {'max_depth': 10, 'max_features': 'auto', 'n_estimators': 1000}\n",
      "0.7966412019353196 {'max_depth': 10, 'max_features': 'sqrt', 'n_estimators': 10}\n",
      "0.8594983447924625 {'max_depth': 10, 'max_features': 'sqrt', 'n_estimators': 100}\n",
      "0.8629157117392412 {'max_depth': 10, 'max_features': 'sqrt', 'n_estimators': 500}\n",
      "0.8557728545963841 {'max_depth': 10, 'max_features': 'sqrt', 'n_estimators': 1000}\n",
      "0.8217952635599695 {'max_depth': 15, 'max_features': 'log2', 'n_estimators': 10}\n",
      "0.8659460147695442 {'max_depth': 15, 'max_features': 'log2', 'n_estimators': 100}\n",
      "0.8528316781257959 {'max_depth': 15, 'max_features': 'log2', 'n_estimators': 500}\n",
      "0.8528316781257959 {'max_depth': 15, 'max_features': 'log2', 'n_estimators': 1000}\n",
      "0.8131830914183855 {'max_depth': 15, 'max_features': 'auto', 'n_estimators': 10}\n",
      "0.8605398523045583 {'max_depth': 15, 'max_features': 'auto', 'n_estimators': 100}\n",
      "0.8528316781257959 {'max_depth': 15, 'max_features': 'auto', 'n_estimators': 500}\n",
      "0.8528316781257959 {'max_depth': 15, 'max_features': 'auto', 'n_estimators': 1000}\n",
      "0.81711739241151 {'max_depth': 15, 'max_features': 'sqrt', 'n_estimators': 10}\n",
      "0.8415762668703846 {'max_depth': 15, 'max_features': 'sqrt', 'n_estimators': 100}\n",
      "0.8557728545963841 {'max_depth': 15, 'max_features': 'sqrt', 'n_estimators': 500}\n",
      "0.8528316781257959 {'max_depth': 15, 'max_features': 'sqrt', 'n_estimators': 1000}\n"
     ]
    }
   ],
   "source": [
    "cvres = grid_search.cv_results_\n",
    "for mean_score, params in zip(cvres['mean_test_score'],cvres['params']):\n",
    "    print(mean_score,params)"
   ]
  },
  {
   "cell_type": "markdown",
   "metadata": {
    "papermill": {
     "duration": 0.01792,
     "end_time": "2023-10-18T15:25:32.647651",
     "exception": false,
     "start_time": "2023-10-18T15:25:32.629731",
     "status": "completed"
    },
    "tags": []
   },
   "source": [
    "Now we try the fine tuned model with the test data and see how it performs"
   ]
  },
  {
   "cell_type": "code",
   "execution_count": 24,
   "metadata": {
    "execution": {
     "iopub.execute_input": "2023-10-18T15:25:32.692609Z",
     "iopub.status.busy": "2023-10-18T15:25:32.692056Z",
     "iopub.status.idle": "2023-10-18T15:25:32.706592Z",
     "shell.execute_reply": "2023-10-18T15:25:32.706053Z"
    },
    "papermill": {
     "duration": 0.041014,
     "end_time": "2023-10-18T15:25:32.706703",
     "exception": false,
     "start_time": "2023-10-18T15:25:32.665689",
     "status": "completed"
    },
    "tags": []
   },
   "outputs": [
    {
     "data": {
      "text/plain": [
       "0.7314285714285714"
      ]
     },
     "execution_count": 24,
     "metadata": {},
     "output_type": "execute_result"
    }
   ],
   "source": [
    "from sklearn.metrics import accuracy_score\n",
    "\n",
    "final_model = grid_search.best_estimator_\n",
    "\n",
    "X_test = test_set.drop('DEATH_EVENT',axis=1)\n",
    "y_test = test_set['DEATH_EVENT']\n",
    "X_test_scaled = std_scaler.fit_transform(X_test)\n",
    "\n",
    "final_predictions = final_model.predict(X_test_scaled)\n",
    "roc_auc_score(y_test,final_predictions)"
   ]
  },
  {
   "cell_type": "code",
   "execution_count": 25,
   "metadata": {
    "execution": {
     "iopub.execute_input": "2023-10-18T15:25:32.748573Z",
     "iopub.status.busy": "2023-10-18T15:25:32.748034Z",
     "iopub.status.idle": "2023-10-18T15:25:32.752548Z",
     "shell.execute_reply": "2023-10-18T15:25:32.752124Z"
    },
    "papermill": {
     "duration": 0.026179,
     "end_time": "2023-10-18T15:25:32.752652",
     "exception": false,
     "start_time": "2023-10-18T15:25:32.726473",
     "status": "completed"
    },
    "tags": []
   },
   "outputs": [
    {
     "data": {
      "text/plain": [
       "{'max_depth': 5, 'max_features': 'auto', 'n_estimators': 100}"
      ]
     },
     "execution_count": 25,
     "metadata": {},
     "output_type": "execute_result"
    }
   ],
   "source": [
    "grid_search.best_params_"
   ]
  }
 ],
 "metadata": {
  "kernelspec": {
   "display_name": "Python 3",
   "language": "python",
   "name": "python3"
  },
  "language_info": {
   "codemirror_mode": {
    "name": "ipython",
    "version": 3
   },
   "file_extension": ".py",
   "mimetype": "text/x-python",
   "name": "python",
   "nbconvert_exporter": "python",
   "pygments_lexer": "ipython3",
   "version": "3.7.6"
  },
  "papermill": {
   "duration": 139.418101,
   "end_time": "2023-10-18T15:25:32.879202",
   "environment_variables": {},
   "exception": null,
   "input_path": "__notebook__.ipynb",
   "output_path": "__notebook__.ipynb",
   "parameters": {},
   "start_time": "2023-10-18T15:23:13.461101",
   "version": "2.1.0"
  }
 },
 "nbformat": 4,
 "nbformat_minor": 4
}
