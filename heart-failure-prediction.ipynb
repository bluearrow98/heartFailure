{
 "cells": [
  {
   "cell_type": "code",
   "execution_count": 1,
   "metadata": {
    "_cell_guid": "b1076dfc-b9ad-4769-8c92-a6c4dae69d19",
    "_uuid": "8f2839f25d086af736a60e9eeb907d3b93b6e0e5",
    "execution": {
     "iopub.execute_input": "2024-02-10T10:12:08.976860Z",
     "iopub.status.busy": "2024-02-10T10:12:08.975962Z",
     "iopub.status.idle": "2024-02-10T10:12:08.992178Z",
     "shell.execute_reply": "2024-02-10T10:12:08.993026Z",
     "shell.execute_reply.started": "2024-02-10T10:07:20.781682Z"
    },
    "papermill": {
     "duration": 0.053563,
     "end_time": "2024-02-10T10:12:08.993244",
     "exception": false,
     "start_time": "2024-02-10T10:12:08.939681",
     "status": "completed"
    },
    "tags": []
   },
   "outputs": [
    {
     "name": "stdout",
     "output_type": "stream",
     "text": [
      "/kaggle/input/heart-failure-clinical-data/heart_failure_clinical_records_dataset.csv\n"
     ]
    }
   ],
   "source": [
    "# This Python 3 environment comes with many helpful analytics libraries installed\n",
    "# It is defined by the kaggle/python Docker image: https://github.com/kaggle/docker-python\n",
    "# For example, here's several helpful packages to load\n",
    "\n",
    "import numpy as np # linear algebra\n",
    "import pandas as pd # data processing, CSV file I/O (e.g. pd.read_csv)\n",
    "\n",
    "# Input data files are available in the read-only \"../input/\" directory\n",
    "# For example, running this (by clicking run or pressing Shift+Enter) will list all files under the input directory\n",
    "\n",
    "import os\n",
    "for dirname, _, filenames in os.walk('/kaggle/input'):\n",
    "    for filename in filenames:\n",
    "        print(os.path.join(dirname, filename))\n",
    "\n",
    "# You can write up to 5GB to the current directory (/kaggle/working/) that gets preserved as output when you create a version using \"Save & Run All\" \n",
    "# You can also write temporary files to /kaggle/temp/, but they won't be saved outside of the current session"
   ]
  },
  {
   "cell_type": "code",
   "execution_count": 2,
   "metadata": {
    "_cell_guid": "79c7e3d0-c299-4dcb-8224-4455121ee9b0",
    "_uuid": "d629ff2d2480ee46fbb7e2d37f6b5fab8052498a",
    "execution": {
     "iopub.execute_input": "2024-02-10T10:12:09.062214Z",
     "iopub.status.busy": "2024-02-10T10:12:09.061339Z",
     "iopub.status.idle": "2024-02-10T10:12:09.111419Z",
     "shell.execute_reply": "2024-02-10T10:12:09.110630Z",
     "shell.execute_reply.started": "2024-02-10T10:07:20.794859Z"
    },
    "papermill": {
     "duration": 0.086091,
     "end_time": "2024-02-10T10:12:09.111569",
     "exception": false,
     "start_time": "2024-02-10T10:12:09.025478",
     "status": "completed"
    },
    "tags": []
   },
   "outputs": [
    {
     "data": {
      "text/html": [
       "<div>\n",
       "<style scoped>\n",
       "    .dataframe tbody tr th:only-of-type {\n",
       "        vertical-align: middle;\n",
       "    }\n",
       "\n",
       "    .dataframe tbody tr th {\n",
       "        vertical-align: top;\n",
       "    }\n",
       "\n",
       "    .dataframe thead th {\n",
       "        text-align: right;\n",
       "    }\n",
       "</style>\n",
       "<table border=\"1\" class=\"dataframe\">\n",
       "  <thead>\n",
       "    <tr style=\"text-align: right;\">\n",
       "      <th></th>\n",
       "      <th>age</th>\n",
       "      <th>anaemia</th>\n",
       "      <th>creatinine_phosphokinase</th>\n",
       "      <th>diabetes</th>\n",
       "      <th>ejection_fraction</th>\n",
       "      <th>high_blood_pressure</th>\n",
       "      <th>platelets</th>\n",
       "      <th>serum_creatinine</th>\n",
       "      <th>serum_sodium</th>\n",
       "      <th>sex</th>\n",
       "      <th>smoking</th>\n",
       "      <th>time</th>\n",
       "      <th>DEATH_EVENT</th>\n",
       "    </tr>\n",
       "  </thead>\n",
       "  <tbody>\n",
       "    <tr>\n",
       "      <th>0</th>\n",
       "      <td>75.0</td>\n",
       "      <td>0</td>\n",
       "      <td>582</td>\n",
       "      <td>0</td>\n",
       "      <td>20</td>\n",
       "      <td>1</td>\n",
       "      <td>265000.00</td>\n",
       "      <td>1.9</td>\n",
       "      <td>130</td>\n",
       "      <td>1</td>\n",
       "      <td>0</td>\n",
       "      <td>4</td>\n",
       "      <td>1</td>\n",
       "    </tr>\n",
       "    <tr>\n",
       "      <th>1</th>\n",
       "      <td>55.0</td>\n",
       "      <td>0</td>\n",
       "      <td>7861</td>\n",
       "      <td>0</td>\n",
       "      <td>38</td>\n",
       "      <td>0</td>\n",
       "      <td>263358.03</td>\n",
       "      <td>1.1</td>\n",
       "      <td>136</td>\n",
       "      <td>1</td>\n",
       "      <td>0</td>\n",
       "      <td>6</td>\n",
       "      <td>1</td>\n",
       "    </tr>\n",
       "    <tr>\n",
       "      <th>2</th>\n",
       "      <td>65.0</td>\n",
       "      <td>0</td>\n",
       "      <td>146</td>\n",
       "      <td>0</td>\n",
       "      <td>20</td>\n",
       "      <td>0</td>\n",
       "      <td>162000.00</td>\n",
       "      <td>1.3</td>\n",
       "      <td>129</td>\n",
       "      <td>1</td>\n",
       "      <td>1</td>\n",
       "      <td>7</td>\n",
       "      <td>1</td>\n",
       "    </tr>\n",
       "    <tr>\n",
       "      <th>3</th>\n",
       "      <td>50.0</td>\n",
       "      <td>1</td>\n",
       "      <td>111</td>\n",
       "      <td>0</td>\n",
       "      <td>20</td>\n",
       "      <td>0</td>\n",
       "      <td>210000.00</td>\n",
       "      <td>1.9</td>\n",
       "      <td>137</td>\n",
       "      <td>1</td>\n",
       "      <td>0</td>\n",
       "      <td>7</td>\n",
       "      <td>1</td>\n",
       "    </tr>\n",
       "    <tr>\n",
       "      <th>4</th>\n",
       "      <td>65.0</td>\n",
       "      <td>1</td>\n",
       "      <td>160</td>\n",
       "      <td>1</td>\n",
       "      <td>20</td>\n",
       "      <td>0</td>\n",
       "      <td>327000.00</td>\n",
       "      <td>2.7</td>\n",
       "      <td>116</td>\n",
       "      <td>0</td>\n",
       "      <td>0</td>\n",
       "      <td>8</td>\n",
       "      <td>1</td>\n",
       "    </tr>\n",
       "  </tbody>\n",
       "</table>\n",
       "</div>"
      ],
      "text/plain": [
       "    age  anaemia  creatinine_phosphokinase  diabetes  ejection_fraction  \\\n",
       "0  75.0        0                       582         0                 20   \n",
       "1  55.0        0                      7861         0                 38   \n",
       "2  65.0        0                       146         0                 20   \n",
       "3  50.0        1                       111         0                 20   \n",
       "4  65.0        1                       160         1                 20   \n",
       "\n",
       "   high_blood_pressure  platelets  serum_creatinine  serum_sodium  sex  \\\n",
       "0                    1  265000.00               1.9           130    1   \n",
       "1                    0  263358.03               1.1           136    1   \n",
       "2                    0  162000.00               1.3           129    1   \n",
       "3                    0  210000.00               1.9           137    1   \n",
       "4                    0  327000.00               2.7           116    0   \n",
       "\n",
       "   smoking  time  DEATH_EVENT  \n",
       "0        0     4            1  \n",
       "1        0     6            1  \n",
       "2        1     7            1  \n",
       "3        0     7            1  \n",
       "4        0     8            1  "
      ]
     },
     "execution_count": 2,
     "metadata": {},
     "output_type": "execute_result"
    }
   ],
   "source": [
    "# Read the data\n",
    "heart_failure = pd.read_csv(\"../input/heart-failure-clinical-data/heart_failure_clinical_records_dataset.csv\")\n",
    "heart_failure.head()"
   ]
  },
  {
   "cell_type": "code",
   "execution_count": 3,
   "metadata": {
    "execution": {
     "iopub.execute_input": "2024-02-10T10:12:09.186704Z",
     "iopub.status.busy": "2024-02-10T10:12:09.185865Z",
     "iopub.status.idle": "2024-02-10T10:12:12.866390Z",
     "shell.execute_reply": "2024-02-10T10:12:12.867143Z",
     "shell.execute_reply.started": "2024-02-10T10:07:20.830713Z"
    },
    "papermill": {
     "duration": 3.722756,
     "end_time": "2024-02-10T10:12:12.867335",
     "exception": false,
     "start_time": "2024-02-10T10:12:09.144579",
     "status": "completed"
    },
    "tags": []
   },
   "outputs": [
    {
     "data": {
      "image/png": "[encoded data removed]",
      "text/plain": [
       "<Figure size 1800x1080 with 16 Axes>"
      ]
     },
     "metadata": {
      "needs_background": "light"
     },
     "output_type": "display_data"
    }
   ],
   "source": [
    "# Visualize the features distribution\n",
    "import matplotlib.pyplot as plt\n",
    "\n",
    "heart_failure.hist(bins=40,figsize=(25,15))\n",
    "plt.show()"
   ]
  },
  {
   "cell_type": "markdown",
   "metadata": {
    "papermill": {
     "duration": 0.033101,
     "end_time": "2024-02-10T10:12:12.934628",
     "exception": false,
     "start_time": "2024-02-10T10:12:12.901527",
     "status": "completed"
    },
    "tags": []
   },
   "source": [
    "The dataset has class imbalance. One needs to take this into account henceforth to avoid learning to predict all instances as negative. Furthermore, now, it would be interesting to see which variables are actually correlated to the death event. One idea is to plot a correlation matrix. Let's try that"
   ]
  },
  {
   "cell_type": "code",
   "execution_count": 4,
   "metadata": {
    "execution": {
     "iopub.execute_input": "2024-02-10T10:12:13.009385Z",
     "iopub.status.busy": "2024-02-10T10:12:13.008467Z",
     "iopub.status.idle": "2024-02-10T10:12:14.562409Z",
     "shell.execute_reply": "2024-02-10T10:12:14.561601Z",
     "shell.execute_reply.started": "2024-02-10T10:07:23.123381Z"
    },
    "papermill": {
     "duration": 1.591813,
     "end_time": "2024-02-10T10:12:14.562548",
     "exception": false,
     "start_time": "2024-02-10T10:12:12.970735",
     "status": "completed"
    },
    "tags": []
   },
   "outputs": [
    {
     "data": {
      "image/png": "[encoded data removed]",
      "text/plain": [
       "<Figure size 720x576 with 2 Axes>"
      ]
     },
     "metadata": {
      "needs_background": "light"
     },
     "output_type": "display_data"
    }
   ],
   "source": [
    "import seaborn as sns\n",
    "\n",
    "corr = heart_failure.corr()\n",
    "plt.figure(figsize=(10,8))\n",
    "sns.heatmap(corr[['DEATH_EVENT']], annot = True)\n",
    "plt.show()\n"
   ]
  },
  {
   "cell_type": "markdown",
   "metadata": {
    "papermill": {
     "duration": 0.036372,
     "end_time": "2024-02-10T10:12:14.634211",
     "exception": false,
     "start_time": "2024-02-10T10:12:14.597839",
     "status": "completed"
    },
    "tags": []
   },
   "source": [
    "While this does seem to give a nice overview of the strength of each feature on the death events, but I think we should be careful. Diabetes seems to have almost negligible effect on heart failure, but it is of common knowledge that diabetic patients are more prone to to heart disease. "
   ]
  },
  {
   "cell_type": "code",
   "execution_count": 5,
   "metadata": {
    "execution": {
     "iopub.execute_input": "2024-02-10T10:12:14.709016Z",
     "iopub.status.busy": "2024-02-10T10:12:14.708137Z",
     "iopub.status.idle": "2024-02-10T10:12:14.862041Z",
     "shell.execute_reply": "2024-02-10T10:12:14.862638Z",
     "shell.execute_reply.started": "2024-02-10T10:07:23.332267Z"
    },
    "papermill": {
     "duration": 0.193325,
     "end_time": "2024-02-10T10:12:14.862846",
     "exception": false,
     "start_time": "2024-02-10T10:12:14.669521",
     "status": "completed"
    },
    "tags": []
   },
   "outputs": [],
   "source": [
    "# Split the dataset into train and test. Split in stratified fashion to account for class imbalance\n",
    "from sklearn.model_selection import train_test_split\n",
    "\n",
    "train_set,test_set = train_test_split(heart_failure,test_size=0.2,random_state=42, shuffle = 1, stratify = heart_failure['DEATH_EVENT'])\n",
    "heart = train_set.copy()"
   ]
  },
  {
   "cell_type": "code",
   "execution_count": 6,
   "metadata": {
    "execution": {
     "iopub.execute_input": "2024-02-10T10:12:14.942628Z",
     "iopub.status.busy": "2024-02-10T10:12:14.941714Z",
     "iopub.status.idle": "2024-02-10T10:12:14.944681Z",
     "shell.execute_reply": "2024-02-10T10:12:14.943848Z",
     "shell.execute_reply.started": "2024-02-10T10:07:23.345798Z"
    },
    "papermill": {
     "duration": 0.047789,
     "end_time": "2024-02-10T10:12:14.944837",
     "exception": false,
     "start_time": "2024-02-10T10:12:14.897048",
     "status": "completed"
    },
    "tags": []
   },
   "outputs": [],
   "source": [
    "heart_data = heart.drop('DEATH_EVENT',axis=1)\n",
    "heart_data_labels = heart['DEATH_EVENT'].copy()"
   ]
  },
  {
   "cell_type": "code",
   "execution_count": 7,
   "metadata": {
    "execution": {
     "iopub.execute_input": "2024-02-10T10:12:15.031518Z",
     "iopub.status.busy": "2024-02-10T10:12:15.030201Z",
     "iopub.status.idle": "2024-02-10T10:12:15.035153Z",
     "shell.execute_reply": "2024-02-10T10:12:15.034273Z",
     "shell.execute_reply.started": "2024-02-10T10:07:23.353599Z"
    },
    "papermill": {
     "duration": 0.053789,
     "end_time": "2024-02-10T10:12:15.035309",
     "exception": false,
     "start_time": "2024-02-10T10:12:14.981520",
     "status": "completed"
    },
    "tags": []
   },
   "outputs": [],
   "source": [
    "from sklearn.preprocessing import StandardScaler\n",
    "#Scaling the data - Feature scaling\n",
    "std_scaler = StandardScaler()\n",
    "heart_data_scaled = std_scaler.fit_transform(heart_data)"
   ]
  },
  {
   "cell_type": "markdown",
   "metadata": {
    "papermill": {
     "duration": 0.034465,
     "end_time": "2024-02-10T10:12:15.104447",
     "exception": false,
     "start_time": "2024-02-10T10:12:15.069982",
     "status": "completed"
    },
    "tags": []
   },
   "source": [
    "# SGDClassifier"
   ]
  },
  {
   "cell_type": "code",
   "execution_count": 8,
   "metadata": {
    "execution": {
     "iopub.execute_input": "2024-02-10T10:12:15.186435Z",
     "iopub.status.busy": "2024-02-10T10:12:15.185602Z",
     "iopub.status.idle": "2024-02-10T10:12:15.295393Z",
     "shell.execute_reply": "2024-02-10T10:12:15.294566Z",
     "shell.execute_reply.started": "2024-02-10T10:07:23.368334Z"
    },
    "papermill": {
     "duration": 0.153365,
     "end_time": "2024-02-10T10:12:15.295540",
     "exception": false,
     "start_time": "2024-02-10T10:12:15.142175",
     "status": "completed"
    },
    "tags": []
   },
   "outputs": [
    {
     "data": {
      "text/plain": [
       "SGDClassifier()"
      ]
     },
     "execution_count": 8,
     "metadata": {},
     "output_type": "execute_result"
    }
   ],
   "source": [
    "from sklearn.linear_model import SGDClassifier,LogisticRegression\n",
    "\n",
    "sgd_clf = SGDClassifier()\n",
    "sgd_clf.fit(heart_data_scaled,heart_data_labels)"
   ]
  },
  {
   "cell_type": "code",
   "execution_count": 9,
   "metadata": {
    "execution": {
     "iopub.execute_input": "2024-02-10T10:12:15.379613Z",
     "iopub.status.busy": "2024-02-10T10:12:15.378791Z",
     "iopub.status.idle": "2024-02-10T10:12:15.397468Z",
     "shell.execute_reply": "2024-02-10T10:12:15.396801Z",
     "shell.execute_reply.started": "2024-02-10T10:07:23.377620Z"
    },
    "papermill": {
     "duration": 0.066939,
     "end_time": "2024-02-10T10:12:15.397620",
     "exception": false,
     "start_time": "2024-02-10T10:12:15.330681",
     "status": "completed"
    },
    "tags": []
   },
   "outputs": [
    {
     "name": "stdout",
     "output_type": "stream",
     "text": [
      "[[130  32]\n",
      " [ 36  41]]\n",
      "0.5616438356164384\n",
      "0.5324675324675324\n"
     ]
    }
   ],
   "source": [
    "from sklearn.model_selection import cross_val_predict\n",
    "from sklearn.metrics import confusion_matrix,precision_score,recall_score,roc_curve,roc_auc_score\n",
    "\n",
    "heart_pred = cross_val_predict(sgd_clf,heart_data_scaled,heart_data_labels,cv=3)\n",
    "print(confusion_matrix(heart_data_labels,heart_pred))\n",
    "print(precision_score(heart_data_labels,heart_pred))\n",
    "print(recall_score(heart_data_labels,heart_pred))"
   ]
  },
  {
   "cell_type": "markdown",
   "metadata": {
    "papermill": {
     "duration": 0.037236,
     "end_time": "2024-02-10T10:12:15.470616",
     "exception": false,
     "start_time": "2024-02-10T10:12:15.433380",
     "status": "completed"
    },
    "tags": []
   },
   "source": [
    "It is nice to predict all the positive death events correctly (high TPR). But a model that just learns to predict everything as positive is also not good (high FPR). So a good model in this class imbalance case would be to have a high area under the graph in ROC curve. This metric will be used here:"
   ]
  },
  {
   "cell_type": "code",
   "execution_count": 10,
   "metadata": {
    "execution": {
     "iopub.execute_input": "2024-02-10T10:12:15.556323Z",
     "iopub.status.busy": "2024-02-10T10:12:15.555387Z",
     "iopub.status.idle": "2024-02-10T10:12:15.738893Z",
     "shell.execute_reply": "2024-02-10T10:12:15.740138Z",
     "shell.execute_reply.started": "2024-02-10T10:07:23.398923Z"
    },
    "papermill": {
     "duration": 0.230205,
     "end_time": "2024-02-10T10:12:15.740396",
     "exception": false,
     "start_time": "2024-02-10T10:12:15.510191",
     "status": "completed"
    },
    "tags": []
   },
   "outputs": [
    {
     "data": {
      "image/png": "[encoded data removed]",
      "text/plain": [
       "<Figure size 432x288 with 1 Axes>"
      ]
     },
     "metadata": {
      "needs_background": "light"
     },
     "output_type": "display_data"
    }
   ],
   "source": [
    "fpr,tpr,threshold = roc_curve(heart_data_labels,heart_pred)\n",
    "\n",
    "def plot_ROC_curve(fpr,tpr,label=None):\n",
    "    plt.plot(fpr,tpr,linewidth=2,label=label)\n",
    "    plt.plot([0,1],[0,1],'k--')\n",
    "    plt.axis([0,1,0,1])\n",
    "    plt.xlabel('False Positive Rate')\n",
    "    plt.ylabel('Recall')\n",
    "\n",
    "plot_ROC_curve(fpr,tpr)\n",
    "plt.show()"
   ]
  },
  {
   "cell_type": "code",
   "execution_count": 11,
   "metadata": {
    "execution": {
     "iopub.execute_input": "2024-02-10T10:12:15.824333Z",
     "iopub.status.busy": "2024-02-10T10:12:15.822532Z",
     "iopub.status.idle": "2024-02-10T10:12:15.830578Z",
     "shell.execute_reply": "2024-02-10T10:12:15.829559Z",
     "shell.execute_reply.started": "2024-02-10T10:07:23.518507Z"
    },
    "papermill": {
     "duration": 0.05288,
     "end_time": "2024-02-10T10:12:15.830751",
     "exception": false,
     "start_time": "2024-02-10T10:12:15.777871",
     "status": "completed"
    },
    "tags": []
   },
   "outputs": [
    {
     "data": {
      "text/plain": [
       "0.6674683341350007"
      ]
     },
     "execution_count": 11,
     "metadata": {},
     "output_type": "execute_result"
    }
   ],
   "source": [
    "roc_auc_score(heart_data_labels,heart_pred)"
   ]
  },
  {
   "cell_type": "markdown",
   "metadata": {
    "papermill": {
     "duration": 0.037862,
     "end_time": "2024-02-10T10:12:15.907409",
     "exception": false,
     "start_time": "2024-02-10T10:12:15.869547",
     "status": "completed"
    },
    "tags": []
   },
   "source": [
    "# LogisticRegressor"
   ]
  },
  {
   "cell_type": "code",
   "execution_count": 12,
   "metadata": {
    "execution": {
     "iopub.execute_input": "2024-02-10T10:12:16.000439Z",
     "iopub.status.busy": "2024-02-10T10:12:15.993640Z",
     "iopub.status.idle": "2024-02-10T10:12:16.034753Z",
     "shell.execute_reply": "2024-02-10T10:12:16.035700Z",
     "shell.execute_reply.started": "2024-02-10T10:07:23.528458Z"
    },
    "papermill": {
     "duration": 0.091317,
     "end_time": "2024-02-10T10:12:16.035925",
     "exception": false,
     "start_time": "2024-02-10T10:12:15.944608",
     "status": "completed"
    },
    "tags": []
   },
   "outputs": [
    {
     "data": {
      "text/plain": [
       "LogisticRegression()"
      ]
     },
     "execution_count": 12,
     "metadata": {},
     "output_type": "execute_result"
    }
   ],
   "source": [
    "log_reg = LogisticRegression()\n",
    "log_reg.fit(heart_data,heart_data_labels)"
   ]
  },
  {
   "cell_type": "code",
   "execution_count": 13,
   "metadata": {
    "execution": {
     "iopub.execute_input": "2024-02-10T10:12:16.121613Z",
     "iopub.status.busy": "2024-02-10T10:12:16.120417Z",
     "iopub.status.idle": "2024-02-10T10:12:16.153221Z",
     "shell.execute_reply": "2024-02-10T10:12:16.152517Z",
     "shell.execute_reply.started": "2024-02-10T10:07:23.560712Z"
    },
    "papermill": {
     "duration": 0.075143,
     "end_time": "2024-02-10T10:12:16.153381",
     "exception": false,
     "start_time": "2024-02-10T10:12:16.078238",
     "status": "completed"
    },
    "tags": []
   },
   "outputs": [
    {
     "name": "stdout",
     "output_type": "stream",
     "text": [
      "[[130  32]\n",
      " [ 36  41]]\n",
      "0.5616438356164384\n",
      "0.5324675324675324\n"
     ]
    }
   ],
   "source": [
    "heart_pred_log = cross_val_predict(log_reg,heart_data_scaled,heart_data_labels,cv=3)\n",
    "print(confusion_matrix(heart_data_labels,heart_pred))\n",
    "print(precision_score(heart_data_labels,heart_pred))\n",
    "print(recall_score(heart_data_labels,heart_pred))"
   ]
  },
  {
   "cell_type": "code",
   "execution_count": 14,
   "metadata": {
    "execution": {
     "iopub.execute_input": "2024-02-10T10:12:16.237861Z",
     "iopub.status.busy": "2024-02-10T10:12:16.236710Z",
     "iopub.status.idle": "2024-02-10T10:12:16.246446Z",
     "shell.execute_reply": "2024-02-10T10:12:16.247221Z",
     "shell.execute_reply.started": "2024-02-10T10:07:23.587642Z"
    },
    "papermill": {
     "duration": 0.054028,
     "end_time": "2024-02-10T10:12:16.247416",
     "exception": false,
     "start_time": "2024-02-10T10:12:16.193388",
     "status": "completed"
    },
    "tags": []
   },
   "outputs": [
    {
     "data": {
      "text/plain": [
       "0.7786996953663621"
      ]
     },
     "execution_count": 14,
     "metadata": {},
     "output_type": "execute_result"
    }
   ],
   "source": [
    "roc_auc_score(heart_data_labels,heart_pred_log)"
   ]
  },
  {
   "cell_type": "markdown",
   "metadata": {
    "papermill": {
     "duration": 0.038581,
     "end_time": "2024-02-10T10:12:16.326143",
     "exception": false,
     "start_time": "2024-02-10T10:12:16.287562",
     "status": "completed"
    },
    "tags": []
   },
   "source": [
    "# RandomForest"
   ]
  },
  {
   "cell_type": "code",
   "execution_count": 15,
   "metadata": {
    "execution": {
     "iopub.execute_input": "2024-02-10T10:12:16.409951Z",
     "iopub.status.busy": "2024-02-10T10:12:16.408703Z",
     "iopub.status.idle": "2024-02-10T10:12:16.887437Z",
     "shell.execute_reply": "2024-02-10T10:12:16.888265Z",
     "shell.execute_reply.started": "2024-02-10T10:07:23.597777Z"
    },
    "papermill": {
     "duration": 0.522161,
     "end_time": "2024-02-10T10:12:16.888441",
     "exception": false,
     "start_time": "2024-02-10T10:12:16.366280",
     "status": "completed"
    },
    "tags": []
   },
   "outputs": [
    {
     "data": {
      "text/plain": [
       "RandomForestClassifier()"
      ]
     },
     "execution_count": 15,
     "metadata": {},
     "output_type": "execute_result"
    }
   ],
   "source": [
    "from sklearn.ensemble import RandomForestClassifier\n",
    "\n",
    "forest_clas = RandomForestClassifier()\n",
    "forest_clas.fit(heart_data_scaled,heart_data_labels)"
   ]
  },
  {
   "cell_type": "code",
   "execution_count": 16,
   "metadata": {
    "execution": {
     "iopub.execute_input": "2024-02-10T10:12:16.972174Z",
     "iopub.status.busy": "2024-02-10T10:12:16.970964Z",
     "iopub.status.idle": "2024-02-10T10:12:17.752945Z",
     "shell.execute_reply": "2024-02-10T10:12:17.752071Z",
     "shell.execute_reply.started": "2024-02-10T10:07:23.741677Z"
    },
    "papermill": {
     "duration": 0.824148,
     "end_time": "2024-02-10T10:12:17.753092",
     "exception": false,
     "start_time": "2024-02-10T10:12:16.928944",
     "status": "completed"
    },
    "tags": []
   },
   "outputs": [
    {
     "name": "stdout",
     "output_type": "stream",
     "text": [
      "[[149  13]\n",
      " [ 26  51]]\n",
      "0.796875\n",
      "0.6623376623376623\n"
     ]
    }
   ],
   "source": [
    "heart_pred_forest = cross_val_predict(forest_clas,heart_data_scaled,heart_data_labels,cv=3)\n",
    "print(confusion_matrix(heart_data_labels,heart_pred_forest))\n",
    "print(precision_score(heart_data_labels,heart_pred_forest))\n",
    "print(recall_score(heart_data_labels,heart_pred_forest))"
   ]
  },
  {
   "cell_type": "code",
   "execution_count": 17,
   "metadata": {
    "execution": {
     "iopub.execute_input": "2024-02-10T10:12:17.860406Z",
     "iopub.status.busy": "2024-02-10T10:12:17.845995Z",
     "iopub.status.idle": "2024-02-10T10:12:18.038844Z",
     "shell.execute_reply": "2024-02-10T10:12:18.038155Z",
     "shell.execute_reply.started": "2024-02-10T10:07:24.156313Z"
    },
    "papermill": {
     "duration": 0.24278,
     "end_time": "2024-02-10T10:12:18.039027",
     "exception": false,
     "start_time": "2024-02-10T10:12:17.796247",
     "status": "completed"
    },
    "tags": []
   },
   "outputs": [
    {
     "data": {
      "image/png": "[encoded data removed]",
      "text/plain": [
       "<Figure size 432x288 with 1 Axes>"
      ]
     },
     "metadata": {
      "needs_background": "light"
     },
     "output_type": "display_data"
    }
   ],
   "source": [
    "fpr1,tpr1,threshold1 = roc_curve(heart_data_labels,heart_pred_forest)\n",
    "\n",
    "plot_ROC_curve(fpr1,tpr1)\n",
    "plt.show()"
   ]
  },
  {
   "cell_type": "code",
   "execution_count": 18,
   "metadata": {
    "execution": {
     "iopub.execute_input": "2024-02-10T10:12:18.134080Z",
     "iopub.status.busy": "2024-02-10T10:12:18.131459Z",
     "iopub.status.idle": "2024-02-10T10:12:18.139703Z",
     "shell.execute_reply": "2024-02-10T10:12:18.138825Z",
     "shell.execute_reply.started": "2024-02-10T10:07:24.269003Z"
    },
    "papermill": {
     "duration": 0.059605,
     "end_time": "2024-02-10T10:12:18.139856",
     "exception": false,
     "start_time": "2024-02-10T10:12:18.080251",
     "status": "completed"
    },
    "tags": []
   },
   "outputs": [
    {
     "data": {
      "text/plain": [
       "0.7910453743787077"
      ]
     },
     "execution_count": 18,
     "metadata": {},
     "output_type": "execute_result"
    }
   ],
   "source": [
    "roc_auc_score(heart_data_labels,heart_pred_forest)"
   ]
  },
  {
   "cell_type": "markdown",
   "metadata": {
    "papermill": {
     "duration": 0.041113,
     "end_time": "2024-02-10T10:12:18.223985",
     "exception": false,
     "start_time": "2024-02-10T10:12:18.182872",
     "status": "completed"
    },
    "tags": []
   },
   "source": [
    "# KNeighbors"
   ]
  },
  {
   "cell_type": "code",
   "execution_count": 19,
   "metadata": {
    "execution": {
     "iopub.execute_input": "2024-02-10T10:12:18.327361Z",
     "iopub.status.busy": "2024-02-10T10:12:18.326305Z",
     "iopub.status.idle": "2024-02-10T10:12:18.332074Z",
     "shell.execute_reply": "2024-02-10T10:12:18.331230Z",
     "shell.execute_reply.started": "2024-02-10T10:07:24.278300Z"
    },
    "papermill": {
     "duration": 0.064159,
     "end_time": "2024-02-10T10:12:18.332224",
     "exception": false,
     "start_time": "2024-02-10T10:12:18.268065",
     "status": "completed"
    },
    "tags": []
   },
   "outputs": [
    {
     "data": {
      "text/plain": [
       "KNeighborsClassifier()"
      ]
     },
     "execution_count": 19,
     "metadata": {},
     "output_type": "execute_result"
    }
   ],
   "source": [
    "from sklearn.neighbors import KNeighborsClassifier\n",
    "\n",
    "knn_clf = KNeighborsClassifier()\n",
    "knn_clf.fit(heart_data,heart_data_labels)"
   ]
  },
  {
   "cell_type": "code",
   "execution_count": 20,
   "metadata": {
    "execution": {
     "iopub.execute_input": "2024-02-10T10:12:18.427372Z",
     "iopub.status.busy": "2024-02-10T10:12:18.426425Z",
     "iopub.status.idle": "2024-02-10T10:12:18.463224Z",
     "shell.execute_reply": "2024-02-10T10:12:18.462295Z",
     "shell.execute_reply.started": "2024-02-10T10:07:24.293166Z"
    },
    "papermill": {
     "duration": 0.088315,
     "end_time": "2024-02-10T10:12:18.463380",
     "exception": false,
     "start_time": "2024-02-10T10:12:18.375065",
     "status": "completed"
    },
    "tags": []
   },
   "outputs": [
    {
     "name": "stdout",
     "output_type": "stream",
     "text": [
      "[[152  10]\n",
      " [ 45  32]]\n",
      "0.7619047619047619\n",
      "0.4155844155844156\n"
     ]
    }
   ],
   "source": [
    "heart_pred_knn = cross_val_predict(knn_clf,heart_data_scaled,heart_data_labels,cv=3)\n",
    "print(confusion_matrix(heart_data_labels,heart_pred_knn))\n",
    "print(precision_score(heart_data_labels,heart_pred_knn))\n",
    "print(recall_score(heart_data_labels,heart_pred_knn))"
   ]
  },
  {
   "cell_type": "code",
   "execution_count": 21,
   "metadata": {
    "execution": {
     "iopub.execute_input": "2024-02-10T10:12:18.556289Z",
     "iopub.status.busy": "2024-02-10T10:12:18.555090Z",
     "iopub.status.idle": "2024-02-10T10:12:18.564629Z",
     "shell.execute_reply": "2024-02-10T10:12:18.563518Z",
     "shell.execute_reply.started": "2024-02-10T10:07:24.322249Z"
    },
    "papermill": {
     "duration": 0.059438,
     "end_time": "2024-02-10T10:12:18.564924",
     "exception": false,
     "start_time": "2024-02-10T10:12:18.505486",
     "status": "completed"
    },
    "tags": []
   },
   "outputs": [
    {
     "data": {
      "text/plain": [
       "0.6769280102613436"
      ]
     },
     "execution_count": 21,
     "metadata": {},
     "output_type": "execute_result"
    }
   ],
   "source": [
    "roc_auc_score(heart_data_labels,heart_pred_knn)"
   ]
  },
  {
   "cell_type": "markdown",
   "metadata": {
    "papermill": {
     "duration": 0.045975,
     "end_time": "2024-02-10T10:12:18.654855",
     "exception": false,
     "start_time": "2024-02-10T10:12:18.608880",
     "status": "completed"
    },
    "tags": []
   },
   "source": [
    "RandomForestClassifier is much better than Logistic regression. However it is overfitting the training set. We try attempting fine tuning the model."
   ]
  },
  {
   "cell_type": "code",
   "execution_count": 22,
   "metadata": {
    "_kg_hide-input": false,
    "execution": {
     "iopub.execute_input": "2024-02-10T10:12:18.751663Z",
     "iopub.status.busy": "2024-02-10T10:12:18.750766Z",
     "iopub.status.idle": "2024-02-10T10:17:16.087999Z",
     "shell.execute_reply": "2024-02-10T10:17:16.088649Z",
     "shell.execute_reply.started": "2024-02-10T10:07:24.333053Z"
    },
    "papermill": {
     "duration": 297.390762,
     "end_time": "2024-02-10T10:17:16.088853",
     "exception": false,
     "start_time": "2024-02-10T10:12:18.698091",
     "status": "completed"
    },
    "tags": []
   },
   "outputs": [
    {
     "name": "stdout",
     "output_type": "stream",
     "text": [
      "0.8009459676126344\n"
     ]
    }
   ],
   "source": [
    "from sklearn.model_selection import GridSearchCV\n",
    "from sklearn.metrics import make_scorer\n",
    "\n",
    "parameters = [{'n_estimators':[10,100,500,1000],'max_depth':[3,5,8,10,15],'max_features':['log2','auto','sqrt']}]\n",
    "auc_scorer = make_scorer(roc_auc_score)\n",
    "grid_search = GridSearchCV(forest_clas,parameters,scoring=auc_scorer)\n",
    "grid_search = grid_search.fit(heart_data_scaled,heart_data_labels)\n",
    "forest_clas = grid_search.best_estimator_\n",
    "heart_predictions = cross_val_predict(forest_clas,heart_data,heart_data_labels,cv=3)\n",
    "forest_score = roc_auc_score(heart_data_labels,heart_predictions)\n",
    "print(forest_score)"
   ]
  },
  {
   "cell_type": "code",
   "execution_count": 23,
   "metadata": {
    "execution": {
     "iopub.execute_input": "2024-02-10T10:17:16.183585Z",
     "iopub.status.busy": "2024-02-10T10:17:16.182678Z",
     "iopub.status.idle": "2024-02-10T10:17:16.195437Z",
     "shell.execute_reply": "2024-02-10T10:17:16.194416Z",
     "shell.execute_reply.started": "2024-02-10T10:10:07.668035Z"
    },
    "papermill": {
     "duration": 0.064319,
     "end_time": "2024-02-10T10:17:16.195663",
     "exception": false,
     "start_time": "2024-02-10T10:17:16.131344",
     "status": "completed"
    },
    "tags": []
   },
   "outputs": [
    {
     "name": "stdout",
     "output_type": "stream",
     "text": [
      "0.7772537878787877 {'max_depth': 3, 'max_features': 'log2', 'n_estimators': 10}\n",
      "0.7830871212121212 {'max_depth': 3, 'max_features': 'log2', 'n_estimators': 100}\n",
      "0.812651515151515 {'max_depth': 3, 'max_features': 'log2', 'n_estimators': 500}\n",
      "0.8187121212121212 {'max_depth': 3, 'max_features': 'log2', 'n_estimators': 1000}\n",
      "0.7993181818181819 {'max_depth': 3, 'max_features': 'auto', 'n_estimators': 10}\n",
      "0.8066287878787879 {'max_depth': 3, 'max_features': 'auto', 'n_estimators': 100}\n",
      "0.8125568181818181 {'max_depth': 3, 'max_features': 'auto', 'n_estimators': 500}\n",
      "0.8125568181818181 {'max_depth': 3, 'max_features': 'auto', 'n_estimators': 1000}\n",
      "0.7621022727272727 {'max_depth': 3, 'max_features': 'sqrt', 'n_estimators': 10}\n",
      "0.7933901515151515 {'max_depth': 3, 'max_features': 'sqrt', 'n_estimators': 100}\n",
      "0.8124621212121212 {'max_depth': 3, 'max_features': 'sqrt', 'n_estimators': 500}\n",
      "0.8156818181818182 {'max_depth': 3, 'max_features': 'sqrt', 'n_estimators': 1000}\n",
      "0.7593939393939394 {'max_depth': 5, 'max_features': 'log2', 'n_estimators': 10}\n",
      "0.8101325757575758 {'max_depth': 5, 'max_features': 'log2', 'n_estimators': 100}\n",
      "0.8228598484848485 {'max_depth': 5, 'max_features': 'log2', 'n_estimators': 500}\n",
      "0.8161931818181818 {'max_depth': 5, 'max_features': 'log2', 'n_estimators': 1000}\n",
      "0.7854166666666667 {'max_depth': 5, 'max_features': 'auto', 'n_estimators': 10}\n",
      "0.8094318181818181 {'max_depth': 5, 'max_features': 'auto', 'n_estimators': 100}\n",
      "0.8161931818181818 {'max_depth': 5, 'max_features': 'auto', 'n_estimators': 500}\n",
      "0.8161931818181818 {'max_depth': 5, 'max_features': 'auto', 'n_estimators': 1000}\n",
      "0.7914772727272726 {'max_depth': 5, 'max_features': 'sqrt', 'n_estimators': 10}\n",
      "0.8132575757575757 {'max_depth': 5, 'max_features': 'sqrt', 'n_estimators': 100}\n",
      "0.8161931818181818 {'max_depth': 5, 'max_features': 'sqrt', 'n_estimators': 500}\n",
      "0.809526515151515 {'max_depth': 5, 'max_features': 'sqrt', 'n_estimators': 1000}\n",
      "0.8081250000000001 {'max_depth': 8, 'max_features': 'log2', 'n_estimators': 10}\n",
      "0.8236931818181817 {'max_depth': 8, 'max_features': 'log2', 'n_estimators': 100}\n",
      "0.8194128787878789 {'max_depth': 8, 'max_features': 'log2', 'n_estimators': 500}\n",
      "0.8286931818181819 {'max_depth': 8, 'max_features': 'log2', 'n_estimators': 1000}\n",
      "0.7714772727272727 {'max_depth': 8, 'max_features': 'auto', 'n_estimators': 10}\n",
      "0.807935606060606 {'max_depth': 8, 'max_features': 'auto', 'n_estimators': 100}\n",
      "0.8323295454545455 {'max_depth': 8, 'max_features': 'auto', 'n_estimators': 500}\n",
      "0.826590909090909 {'max_depth': 8, 'max_features': 'auto', 'n_estimators': 1000}\n",
      "0.7453219696969697 {'max_depth': 8, 'max_features': 'sqrt', 'n_estimators': 10}\n",
      "0.8357765151515153 {'max_depth': 8, 'max_features': 'sqrt', 'n_estimators': 100}\n",
      "0.8261742424242424 {'max_depth': 8, 'max_features': 'sqrt', 'n_estimators': 500}\n",
      "0.8323295454545455 {'max_depth': 8, 'max_features': 'sqrt', 'n_estimators': 1000}\n",
      "0.7842992424242425 {'max_depth': 10, 'max_features': 'log2', 'n_estimators': 10}\n",
      "0.8260795454545455 {'max_depth': 10, 'max_features': 'log2', 'n_estimators': 100}\n",
      "0.8264962121212122 {'max_depth': 10, 'max_features': 'log2', 'n_estimators': 500}\n",
      "0.8194128787878789 {'max_depth': 10, 'max_features': 'log2', 'n_estimators': 1000}\n",
      "0.7444318181818181 {'max_depth': 10, 'max_features': 'auto', 'n_estimators': 10}\n",
      "0.820435606060606 {'max_depth': 10, 'max_features': 'auto', 'n_estimators': 100}\n",
      "0.8357765151515153 {'max_depth': 10, 'max_features': 'auto', 'n_estimators': 500}\n",
      "0.8296212121212122 {'max_depth': 10, 'max_features': 'auto', 'n_estimators': 1000}\n",
      "0.7944128787878788 {'max_depth': 10, 'max_features': 'sqrt', 'n_estimators': 10}\n",
      "0.814280303030303 {'max_depth': 10, 'max_features': 'sqrt', 'n_estimators': 100}\n",
      "0.8262689393939393 {'max_depth': 10, 'max_features': 'sqrt', 'n_estimators': 500}\n",
      "0.8292992424242425 {'max_depth': 10, 'max_features': 'sqrt', 'n_estimators': 1000}\n",
      "0.7660984848484848 {'max_depth': 15, 'max_features': 'log2', 'n_estimators': 10}\n",
      "0.8224431818181817 {'max_depth': 15, 'max_features': 'log2', 'n_estimators': 100}\n",
      "0.8131628787878789 {'max_depth': 15, 'max_features': 'log2', 'n_estimators': 500}\n",
      "0.8161931818181818 {'max_depth': 15, 'max_features': 'log2', 'n_estimators': 1000}\n",
      "0.8166098484848485 {'max_depth': 15, 'max_features': 'auto', 'n_estimators': 10}\n",
      "0.8200189393939393 {'max_depth': 15, 'max_features': 'auto', 'n_estimators': 100}\n",
      "0.8260795454545455 {'max_depth': 15, 'max_features': 'auto', 'n_estimators': 500}\n",
      "0.8255681818181818 {'max_depth': 15, 'max_features': 'auto', 'n_estimators': 1000}\n",
      "0.7921401515151516 {'max_depth': 15, 'max_features': 'sqrt', 'n_estimators': 10}\n",
      "0.8137689393939394 {'max_depth': 15, 'max_features': 'sqrt', 'n_estimators': 100}\n",
      "0.8291098484848485 {'max_depth': 15, 'max_features': 'sqrt', 'n_estimators': 500}\n",
      "0.8230492424242424 {'max_depth': 15, 'max_features': 'sqrt', 'n_estimators': 1000}\n"
     ]
    }
   ],
   "source": [
    "cvres = grid_search.cv_results_\n",
    "for mean_score, params in zip(cvres['mean_test_score'],cvres['params']):\n",
    "    print(mean_score,params)"
   ]
  },
  {
   "cell_type": "markdown",
   "metadata": {
    "papermill": {
     "duration": 0.0421,
     "end_time": "2024-02-10T10:17:16.285360",
     "exception": false,
     "start_time": "2024-02-10T10:17:16.243260",
     "status": "completed"
    },
    "tags": []
   },
   "source": [
    "Now we try the fine tuned model with the test data and see how it performs"
   ]
  },
  {
   "cell_type": "code",
   "execution_count": 24,
   "metadata": {
    "execution": {
     "iopub.execute_input": "2024-02-10T10:17:16.387868Z",
     "iopub.status.busy": "2024-02-10T10:17:16.387059Z",
     "iopub.status.idle": "2024-02-10T10:17:16.409695Z",
     "shell.execute_reply": "2024-02-10T10:17:16.409041Z",
     "shell.execute_reply.started": "2024-02-10T10:10:07.679708Z"
    },
    "papermill": {
     "duration": 0.080034,
     "end_time": "2024-02-10T10:17:16.409847",
     "exception": false,
     "start_time": "2024-02-10T10:17:16.329813",
     "status": "completed"
    },
    "tags": []
   },
   "outputs": [
    {
     "data": {
      "text/plain": [
       "0.7913992297817715"
      ]
     },
     "execution_count": 24,
     "metadata": {},
     "output_type": "execute_result"
    }
   ],
   "source": [
    "from sklearn.metrics import accuracy_score\n",
    "\n",
    "final_model = forest_clas\n",
    "\n",
    "# Use the same scaler as we used for training data\n",
    "X_test = test_set.drop('DEATH_EVENT',axis=1)\n",
    "y_test = test_set['DEATH_EVENT']\n",
    "X_test_scaled = std_scaler.transform(X_test)\n",
    "\n",
    "final_predictions = final_model.predict(X_test_scaled)\n",
    "roc_auc_score(y_test,final_predictions)"
   ]
  },
  {
   "cell_type": "code",
   "execution_count": null,
   "metadata": {
    "papermill": {
     "duration": 0.043685,
     "end_time": "2024-02-10T10:17:16.497657",
     "exception": false,
     "start_time": "2024-02-10T10:17:16.453972",
     "status": "completed"
    },
    "tags": []
   },
   "outputs": [],
   "source": []
  }
 ],
 "metadata": {
  "kaggle": {
   "accelerator": "none",
   "dataSources": [
    {
     "datasetId": 727551,
     "sourceId": 1263738,
     "sourceType": "datasetVersion"
    }
   ],
   "dockerImageVersionId": 30008,
   "isGpuEnabled": false,
   "isInternetEnabled": true,
   "language": "python",
   "sourceType": "notebook"
  },
  "kernelspec": {
   "display_name": "Python 3",
   "language": "python",
   "name": "python3"
  },
  "language_info": {
   "codemirror_mode": {
    "name": "ipython",
    "version": 3
   },
   "file_extension": ".py",
   "mimetype": "text/x-python",
   "name": "python",
   "nbconvert_exporter": "python",
   "pygments_lexer": "ipython3",
   "version": "3.7.6"
  },
  "papermill": {
   "duration": 313.551686,
   "end_time": "2024-02-10T10:17:16.651958",
   "environment_variables": {},
   "exception": null,
   "input_path": "__notebook__.ipynb",
   "output_path": "__notebook__.ipynb",
   "parameters": {},
   "start_time": "2024-02-10T10:12:03.100272",
   "version": "2.1.0"
  }
 },
 "nbformat": 4,
 "nbformat_minor": 4
}
